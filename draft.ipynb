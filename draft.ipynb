{
 "cells": [
  {
   "cell_type": "code",
   "execution_count": 1,
   "id": "054bf7af-cb7a-44ed-a690-c3f0bb94a583",
   "metadata": {},
   "outputs": [],
   "source": [
    "import os\n",
    "import random\n",
    "import itertools\n",
    "import math\n",
    "\n",
    "from __future__ import print_function\n",
    "import pickle\n",
    "import trueskill\n",
    "from trueskill import Rating, quality_1vs1, rate_1vs1, rate\n",
    "\n",
    "from game import Board, Game\n",
    "from mcts_pure import MCTSPlayer as MCTS_Pure\n",
    "from mcts_alphaZero import MCTSPlayer\n",
    "from policy_value_net_numpy import PolicyValueNetNumpy\n",
    "from policy_value_net_pytorch import PolicyValueNet  # Pytorch"
   ]
  },
  {
   "cell_type": "code",
   "execution_count": 2,
   "id": "3c7decab-dd2e-401f-ba31-c76adfed67b1",
   "metadata": {},
   "outputs": [
    {
     "name": "stdout",
     "output_type": "stream",
     "text": [
      "<module 'posixpath' from '/home/qz99@drexel.edu/.pyenv/versions/3.9.6/lib/python3.9/posixpath.py'>\n"
     ]
    }
   ],
   "source": [
    "print(os.path)"
   ]
  },
  {
   "cell_type": "code",
   "execution_count": 3,
   "id": "c61a597a-5eb5-45b9-8c38-d8dc1079ca5e",
   "metadata": {},
   "outputs": [],
   "source": [
    "model_path = os.getcwd() + '/PyTorch_models'"
   ]
  },
  {
   "cell_type": "code",
   "execution_count": 4,
   "id": "4f891773-34db-44b7-b15b-b2a1a08a8e51",
   "metadata": {
    "tags": []
   },
   "outputs": [
    {
     "name": "stdout",
     "output_type": "stream",
     "text": [
      "['best_policy_885_pt_600.model', 'best_policy_885_pt_25300.model', 'best_policy_885_pt_14050.model', 'best_policy_885_pt_23500.model', 'best_policy_885_pt_10500.model', 'best_policy_885_pt_19600.model', 'best_policy_885_pt_11000.model', 'best_policy_885_pt_19250.model', 'best_policy_885_pt_18450.model', 'best_policy_885_pt_50.model', 'best_policy_885_pt_17750.model', 'best_policy_885_pt_3000.model', 'best_policy_885_pt_18050.model', 'best_policy_885_pt_12950.model', 'best_policy_885_pt_5200.model']\n",
      "[]\n"
     ]
    }
   ],
   "source": [
    "for root, dirs, files in os.walk(model_path):\n",
    "    print(files)\n",
    "#     print(type(files))\n",
    "#     print(len(files))"
   ]
  },
  {
   "cell_type": "code",
   "execution_count": 5,
   "id": "ca910034-2eab-4c7d-9f7a-bd15e2aec833",
   "metadata": {},
   "outputs": [],
   "source": [
    "def readModel():\n",
    "    model_path = os.getcwd() + '/PyTorch_models'\n",
    "    model_list = [files for root, dirs, files in os.walk(model_path)][0] # have two lists, second is empty\n",
    "    model_dict = {}\n",
    "    for model in model_list:\n",
    "        model_dict['model' + '_' + model.split('.')[0].split('_')[-1]] = model\n",
    "    return model_dict"
   ]
  },
  {
   "cell_type": "code",
   "execution_count": 6,
   "id": "2ea2a5b0-3cbd-4f14-9cb1-f3efbd780b9d",
   "metadata": {},
   "outputs": [],
   "source": [
    "model_dict = readModel()"
   ]
  },
  {
   "cell_type": "code",
   "execution_count": 7,
   "id": "62385c90-ca9b-42d7-b9eb-b630acc52588",
   "metadata": {
    "tags": []
   },
   "outputs": [
    {
     "data": {
      "text/plain": [
       "{'model_600': 'best_policy_885_pt_600.model',\n",
       " 'model_25300': 'best_policy_885_pt_25300.model',\n",
       " 'model_14050': 'best_policy_885_pt_14050.model',\n",
       " 'model_23500': 'best_policy_885_pt_23500.model',\n",
       " 'model_10500': 'best_policy_885_pt_10500.model',\n",
       " 'model_19600': 'best_policy_885_pt_19600.model',\n",
       " 'model_11000': 'best_policy_885_pt_11000.model',\n",
       " 'model_19250': 'best_policy_885_pt_19250.model',\n",
       " 'model_18450': 'best_policy_885_pt_18450.model',\n",
       " 'model_50': 'best_policy_885_pt_50.model',\n",
       " 'model_17750': 'best_policy_885_pt_17750.model',\n",
       " 'model_3000': 'best_policy_885_pt_3000.model',\n",
       " 'model_18050': 'best_policy_885_pt_18050.model',\n",
       " 'model_12950': 'best_policy_885_pt_12950.model',\n",
       " 'model_5200': 'best_policy_885_pt_5200.model'}"
      ]
     },
     "execution_count": 7,
     "metadata": {},
     "output_type": "execute_result"
    }
   ],
   "source": [
    "model_dict"
   ]
  },
  {
   "cell_type": "code",
   "execution_count": 8,
   "id": "c0137f31-820f-4202-ac79-461de9c6e6f4",
   "metadata": {},
   "outputs": [],
   "source": [
    "def compete(model_file_1, model_file_2): # take two arguments, model_file_1, model_file_2\n",
    "    \n",
    "    # build the board\n",
    "    n = 5\n",
    "    width, height = 8, 8\n",
    "\n",
    "    try:\n",
    "        board = Board(width=width, height=height, n_in_row=n)\n",
    "        game = Game(board)\n",
    "        \n",
    "        # for pyTorch\n",
    "        best_policy_1 = PolicyValueNet(width, height, model_file_1, use_gpu=True)\n",
    "        mcts_player_1 = MCTSPlayer(best_policy_1.policy_value_fn,\n",
    "                                 c_puct=5,\n",
    "                                 n_playout=400)  # set larger n_playout for better performance\n",
    "        \n",
    "        best_policy_2 = PolicyValueNet(width, height, model_file_2, use_gpu=True)\n",
    "        mcts_player_2 = MCTSPlayer(best_policy_2.policy_value_fn,\n",
    "                                 c_puct=5,\n",
    "                                 n_playout=400)  # set larger n_playout for better performance\n",
    "\n",
    "        winner = game.start_play(mcts_player_1, mcts_player_2, start_player=1, is_shown=0)\n",
    "        return winner\n",
    "#         print('winner is {}'.format(winner))\n",
    "            \n",
    "    except KeyboardInterrupt:\n",
    "        print('\\n\\rquit')"
   ]
  },
  {
   "cell_type": "code",
   "execution_count": 9,
   "id": "9310a852-411f-4f71-9156-6323d8799db3",
   "metadata": {},
   "outputs": [],
   "source": [
    "model_dict = readModel()"
   ]
  },
  {
   "cell_type": "code",
   "execution_count": 10,
   "id": "166db8b6-451a-450e-a5c3-7a1fcf4ed418",
   "metadata": {},
   "outputs": [
    {
     "data": {
      "text/plain": [
       "{'model_600': 'best_policy_885_pt_600.model',\n",
       " 'model_25300': 'best_policy_885_pt_25300.model',\n",
       " 'model_14050': 'best_policy_885_pt_14050.model',\n",
       " 'model_23500': 'best_policy_885_pt_23500.model',\n",
       " 'model_10500': 'best_policy_885_pt_10500.model',\n",
       " 'model_19600': 'best_policy_885_pt_19600.model',\n",
       " 'model_11000': 'best_policy_885_pt_11000.model',\n",
       " 'model_19250': 'best_policy_885_pt_19250.model',\n",
       " 'model_18450': 'best_policy_885_pt_18450.model',\n",
       " 'model_50': 'best_policy_885_pt_50.model',\n",
       " 'model_17750': 'best_policy_885_pt_17750.model',\n",
       " 'model_3000': 'best_policy_885_pt_3000.model',\n",
       " 'model_18050': 'best_policy_885_pt_18050.model',\n",
       " 'model_12950': 'best_policy_885_pt_12950.model',\n",
       " 'model_5200': 'best_policy_885_pt_5200.model'}"
      ]
     },
     "execution_count": 10,
     "metadata": {},
     "output_type": "execute_result"
    }
   ],
   "source": [
    "model_dict"
   ]
  },
  {
   "cell_type": "code",
   "execution_count": 11,
   "id": "ac9928fa-a922-478b-9bce-44cef401c1da",
   "metadata": {},
   "outputs": [],
   "source": [
    "test_models = [[model, Rating()] for model in model_dict.values()]"
   ]
  },
  {
   "cell_type": "code",
   "execution_count": 12,
   "id": "3ae29070-1d89-4cf3-831b-f240532077eb",
   "metadata": {},
   "outputs": [
    {
     "data": {
      "text/plain": [
       "[['best_policy_885_pt_600.model', trueskill.Rating(mu=25.000, sigma=8.333)],\n",
       " ['best_policy_885_pt_25300.model', trueskill.Rating(mu=25.000, sigma=8.333)],\n",
       " ['best_policy_885_pt_14050.model', trueskill.Rating(mu=25.000, sigma=8.333)],\n",
       " ['best_policy_885_pt_23500.model', trueskill.Rating(mu=25.000, sigma=8.333)],\n",
       " ['best_policy_885_pt_10500.model', trueskill.Rating(mu=25.000, sigma=8.333)],\n",
       " ['best_policy_885_pt_19600.model', trueskill.Rating(mu=25.000, sigma=8.333)],\n",
       " ['best_policy_885_pt_11000.model', trueskill.Rating(mu=25.000, sigma=8.333)],\n",
       " ['best_policy_885_pt_19250.model', trueskill.Rating(mu=25.000, sigma=8.333)],\n",
       " ['best_policy_885_pt_18450.model', trueskill.Rating(mu=25.000, sigma=8.333)],\n",
       " ['best_policy_885_pt_50.model', trueskill.Rating(mu=25.000, sigma=8.333)],\n",
       " ['best_policy_885_pt_17750.model', trueskill.Rating(mu=25.000, sigma=8.333)],\n",
       " ['best_policy_885_pt_3000.model', trueskill.Rating(mu=25.000, sigma=8.333)],\n",
       " ['best_policy_885_pt_18050.model', trueskill.Rating(mu=25.000, sigma=8.333)],\n",
       " ['best_policy_885_pt_12950.model', trueskill.Rating(mu=25.000, sigma=8.333)],\n",
       " ['best_policy_885_pt_5200.model', trueskill.Rating(mu=25.000, sigma=8.333)]]"
      ]
     },
     "execution_count": 12,
     "metadata": {},
     "output_type": "execute_result"
    }
   ],
   "source": [
    "test_models"
   ]
  },
  {
   "cell_type": "code",
   "execution_count": 13,
   "id": "6ecda085-34c4-4739-a2bc-bbedbfe7755e",
   "metadata": {
    "tags": []
   },
   "outputs": [],
   "source": [
    "model_1 = random.choice(test_models)"
   ]
  },
  {
   "cell_type": "code",
   "execution_count": 14,
   "id": "b4b33c2d-edb7-400e-ad1f-43ff3ee3f13d",
   "metadata": {},
   "outputs": [
    {
     "data": {
      "text/plain": [
       "['best_policy_885_pt_3000.model', trueskill.Rating(mu=25.000, sigma=8.333)]"
      ]
     },
     "execution_count": 14,
     "metadata": {},
     "output_type": "execute_result"
    }
   ],
   "source": [
    "model_1"
   ]
  },
  {
   "cell_type": "code",
   "execution_count": 15,
   "id": "c4bcec79-2320-494f-aab8-e9ce83d3f7bc",
   "metadata": {},
   "outputs": [],
   "source": [
    "model_2 = sorted([(quality_1vs1(model_1[1], m[1]), m) for m in test_models if m[0] != model_1[0]])[-1][1]"
   ]
  },
  {
   "cell_type": "code",
   "execution_count": 16,
   "id": "310ea968-2619-4775-a4dd-02319bb9bc30",
   "metadata": {},
   "outputs": [
    {
     "data": {
      "text/plain": [
       "['best_policy_885_pt_600.model', trueskill.Rating(mu=25.000, sigma=8.333)]"
      ]
     },
     "execution_count": 16,
     "metadata": {},
     "output_type": "execute_result"
    }
   ],
   "source": [
    "model_2"
   ]
  },
  {
   "cell_type": "code",
   "execution_count": 17,
   "id": "d6130f62-c032-4bb2-96c6-1e18d4afdea0",
   "metadata": {},
   "outputs": [],
   "source": [
    "def test():\n",
    "    model_dict = readModel()\n",
    "    test_models = [[model, Rating()] for model in model_dict.values()]\n",
    "    for _ in range(5):\n",
    "        model_1 = random.choice(test_models)\n",
    "        model_2 = sorted([(quality_1vs1(model_1[1], m[1]), m) for m in test_models if m[0] != model_1[0]])[-1][1]\n",
    "        \n",
    "#         model_1 = random.choice(list(model_dict.values()))\n",
    "#         model_2 = random.choice(list(m2 for m2 in model_dict.values() if m2 != m1))\n",
    "        #print(model_file_1, model_file_2)\n",
    "        \n",
    "        model_file_1 = os.getcwd() + '/PyTorch_models/' + model_1[0]\n",
    "        model_file_2 = os.getcwd() + '/PyTorch_models/' + model_2[0]\n",
    "        \n",
    "        winner = compete(model_file_1, model_file_2)\n",
    "        game_result = []\n",
    "        game_result.append(winner)\n",
    "        model1_wins = winner == 1\n",
    "        model2_wins = winner == 2\n",
    "        tie = winner == -1\n",
    "\n",
    "        if model1_wins:\n",
    "            model_1[1], model_2[1] = rate_1vs1(model_1[1], model_2[1])\n",
    "        if model2_wins:\n",
    "            model_2[1], model_1[1] = rate_1vs1(model_2[1], model_1[1])\n",
    "        if tie:\n",
    "            model_1[1], model_2[1] = rate_1vs1(model_1[1], model_2[1], drawn=True)\n",
    "        \n",
    "        print('game {} completed'.format(_))\n",
    "        \n",
    "    return test_models, game_result"
   ]
  },
  {
   "cell_type": "code",
   "execution_count": 18,
   "id": "86b73ee1-d3e7-4800-888b-0bc25485bbbd",
   "metadata": {},
   "outputs": [
    {
     "name": "stderr",
     "output_type": "stream",
     "text": [
      "/home/qz99@drexel.edu/AlphaZero_Gomoku/policy_value_net_pytorch.py:51: UserWarning: Implicit dimension choice for log_softmax has been deprecated. Change the call to include dim=X as an argument.\n",
      "  x_act = F.log_softmax(self.act_fc1(x_act))\n",
      "/home/qz99@drexel.edu/.pyenv/versions/3.9.6/lib/python3.9/site-packages/torch/nn/functional.py:1795: UserWarning: nn.functional.tanh is deprecated. Use torch.tanh instead.\n",
      "  warnings.warn(\"nn.functional.tanh is deprecated. Use torch.tanh instead.\")\n"
     ]
    },
    {
     "name": "stdout",
     "output_type": "stream",
     "text": [
      "game 0 completed\n",
      "game 1 completed\n",
      "game 2 completed\n",
      "game 3 completed\n",
      "game 4 completed\n"
     ]
    },
    {
     "data": {
      "text/plain": [
       "([['best_policy_885_pt_600.model', trueskill.Rating(mu=25.000, sigma=3.855)],\n",
       "  ['best_policy_885_pt_25300.model', trueskill.Rating(mu=25.000, sigma=8.333)],\n",
       "  ['best_policy_885_pt_14050.model', trueskill.Rating(mu=25.000, sigma=4.610)],\n",
       "  ['best_policy_885_pt_23500.model', trueskill.Rating(mu=25.000, sigma=6.036)],\n",
       "  ['best_policy_885_pt_10500.model', trueskill.Rating(mu=25.000, sigma=5.460)],\n",
       "  ['best_policy_885_pt_19600.model', trueskill.Rating(mu=25.000, sigma=8.333)],\n",
       "  ['best_policy_885_pt_11000.model', trueskill.Rating(mu=25.000, sigma=8.333)],\n",
       "  ['best_policy_885_pt_19250.model', trueskill.Rating(mu=25.000, sigma=8.333)],\n",
       "  ['best_policy_885_pt_18450.model', trueskill.Rating(mu=25.000, sigma=8.333)],\n",
       "  ['best_policy_885_pt_50.model', trueskill.Rating(mu=25.000, sigma=6.458)],\n",
       "  ['best_policy_885_pt_17750.model', trueskill.Rating(mu=25.000, sigma=8.333)],\n",
       "  ['best_policy_885_pt_3000.model', trueskill.Rating(mu=25.000, sigma=8.333)],\n",
       "  ['best_policy_885_pt_18050.model', trueskill.Rating(mu=25.000, sigma=8.333)],\n",
       "  ['best_policy_885_pt_12950.model', trueskill.Rating(mu=25.000, sigma=8.333)],\n",
       "  ['best_policy_885_pt_5200.model', trueskill.Rating(mu=25.000, sigma=8.333)]],\n",
       " [-1])"
      ]
     },
     "execution_count": 18,
     "metadata": {},
     "output_type": "execute_result"
    }
   ],
   "source": [
    "test()"
   ]
  },
  {
   "cell_type": "markdown",
   "id": "cf185b97-65cd-49f5-85c6-bd36cfbeb68e",
   "metadata": {},
   "source": [
    "### Testing algo"
   ]
  },
  {
   "cell_type": "code",
   "execution_count": 15,
   "id": "40746d4a-0cd6-455b-82fa-053d71702eb0",
   "metadata": {},
   "outputs": [],
   "source": [
    "def winProb(model_file_1, model_file_2):\n",
    "    delta_mu = sum(r.mu for r in model_file_1) - sum(r.mu for r in model_file_2)\n",
    "    sum_sigma = sum(r.sigma ** 2 for r in itertools.chain(model_file_1, model_file_2))\n",
    "    size = len(model_file_1) + len(model_file_2)\n",
    "    denom = math.sqrt(size * (1 * 1) + sum_sigma)\n",
    "    ts = trueskill.global_env()\n",
    "    return ts.cdf(delta_mu / denom)"
   ]
  },
  {
   "cell_type": "code",
   "execution_count": 16,
   "id": "b466e4c1-4a3e-429c-93d9-a342032912ee",
   "metadata": {},
   "outputs": [],
   "source": [
    "for _ in range(100):\n",
    "    model_file_1 = random.choice(test_models)\n",
    "    model_file_2 = sorted([(quality_1vs1(model_file_1[1], m[1]), m) for m in test_models if m[0] != model_file_1[0]])[-1][1]\n",
    "#     print(model_file_1[0], model_file_2[0])\n",
    "    model1_wins = random.random() < winProb([model_file_1[1]], [model_file_2[1]])\n",
    "#     print(model1_wins)\n",
    "    if model1_wins:\n",
    "        model_file_1[1], model_file_2[1] = rate_1vs1(model_file_1[1], model_file_2[1])\n",
    "    else:\n",
    "        model_file_2[1], model_file_1[1] = rate_1vs1(model_file_2[1], model_file_1[1])"
   ]
  },
  {
   "cell_type": "code",
   "execution_count": 19,
   "id": "6ab34765-6cd5-4018-8a5d-16e12c0bb77e",
   "metadata": {},
   "outputs": [],
   "source": [
    "def run():\n",
    "    n = 5\n",
    "    width, height = 8, 8\n",
    "    model_file_1 = os.getcwd() + '/PyTorch_models/best_policy_885_pt_50.model'\n",
    "    model_file_2 = os.getcwd() + '/PyTorch_models/best_policy_885_pt_10500.model'\n",
    "    try:\n",
    "        board = Board(width=width, height=height, n_in_row=n)\n",
    "        game = Game(board)\n",
    "        \n",
    "        # for pyTorch\n",
    "        best_policy_1 = PolicyValueNet(width, height, model_file_1, use_gpu=True)\n",
    "        mcts_player_1 = MCTSPlayer(best_policy_1.policy_value_fn,\n",
    "                                 c_puct=5,\n",
    "                                 n_playout=400)  # set larger n_playout for better performance\n",
    "        \n",
    "        best_policy_2 = PolicyValueNet(width, height, model_file_2, use_gpu=True)\n",
    "        mcts_player_2 = MCTSPlayer(best_policy_2.policy_value_fn,\n",
    "                                 c_puct=5,\n",
    "                                 n_playout=400)  # set larger n_playout for better performance\n",
    "\n",
    "        # set start_player=0 for human first  \n",
    "        winner = game.start_play(mcts_player_1, mcts_player_2, start_player=1, is_shown=0)\n",
    "#             print('winner is {}'.format(winner))\n",
    "        return winner\n",
    "    except KeyboardInterrupt:\n",
    "        print('\\n\\rquit')"
   ]
  },
  {
   "cell_type": "code",
   "execution_count": 20,
   "id": "fc7f5766-31db-48c1-a200-a01a8a2f61f2",
   "metadata": {},
   "outputs": [
    {
     "data": {
      "text/plain": [
       "2"
      ]
     },
     "execution_count": 20,
     "metadata": {},
     "output_type": "execute_result"
    }
   ],
   "source": [
    "run()"
   ]
  }
 ],
 "metadata": {
  "kernelspec": {
   "display_name": "qz3.9.6",
   "language": "python",
   "name": "qz3.9.6"
  },
  "language_info": {
   "codemirror_mode": {
    "name": "ipython",
    "version": 3
   },
   "file_extension": ".py",
   "mimetype": "text/x-python",
   "name": "python",
   "nbconvert_exporter": "python",
   "pygments_lexer": "ipython3",
   "version": "3.9.6"
  }
 },
 "nbformat": 4,
 "nbformat_minor": 5
}
