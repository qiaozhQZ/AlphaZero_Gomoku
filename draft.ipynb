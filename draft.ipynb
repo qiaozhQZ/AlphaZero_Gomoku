{
 "cells": [
  {
   "cell_type": "code",
   "execution_count": 1,
   "id": "054bf7af-cb7a-44ed-a690-c3f0bb94a583",
   "metadata": {},
   "outputs": [],
   "source": [
    "import os\n",
    "import random\n",
    "import itertools\n",
    "import math\n",
    "\n",
    "from __future__ import print_function\n",
    "import pickle\n",
    "import trueskill\n",
    "from trueskill import Rating, quality_1vs1, rate_1vs1, rate\n",
    "\n",
    "from game import Board, Game\n",
    "from mcts_pure import MCTSPlayer as MCTS_Pure\n",
    "from mcts_alphaZero import MCTSPlayer\n",
    "from policy_value_net_numpy import PolicyValueNetNumpy\n",
    "from policy_value_net_pytorch import PolicyValueNet  # Pytorch"
   ]
  },
  {
   "cell_type": "code",
   "execution_count": 2,
   "id": "3c7decab-dd2e-401f-ba31-c76adfed67b1",
   "metadata": {},
   "outputs": [
    {
     "name": "stdout",
     "output_type": "stream",
     "text": [
      "<module 'posixpath' from '/home/qz99@drexel.edu/.pyenv/versions/3.9.6/lib/python3.9/posixpath.py'>\n"
     ]
    }
   ],
   "source": [
    "print(os.path)"
   ]
  },
  {
   "cell_type": "code",
   "execution_count": 3,
   "id": "c61a597a-5eb5-45b9-8c38-d8dc1079ca5e",
   "metadata": {},
   "outputs": [],
   "source": [
    "model_path = os.getcwd() + '/PyTorch_models'"
   ]
  },
  {
   "cell_type": "code",
   "execution_count": 4,
   "id": "4f891773-34db-44b7-b15b-b2a1a08a8e51",
   "metadata": {
    "tags": []
   },
   "outputs": [
    {
     "name": "stdout",
     "output_type": "stream",
     "text": [
      "['best_policy_885_pt_600.model', 'best_policy_885_pt_25300.model', 'best_policy_885_pt_14050.model', 'best_policy_885_pt_23500.model', 'best_policy_885_pt_10500.model', 'best_policy_885_pt_19600.model', 'best_policy_885_pt_11000.model', 'best_policy_885_pt_19250.model', 'best_policy_885_pt_18450.model', 'best_policy_885_pt_50.model', 'best_policy_885_pt_17750.model', 'best_policy_885_pt_3000.model', 'best_policy_885_pt_18050.model', 'best_policy_885_pt_12950.model', 'best_policy_885_pt_5200.model']\n",
      "[]\n"
     ]
    }
   ],
   "source": [
    "for root, dirs, files in os.walk(model_path):\n",
    "    print(files)\n",
    "#     print(type(files))\n",
    "#     print(len(files))"
   ]
  },
  {
   "cell_type": "code",
   "execution_count": 5,
   "id": "ca910034-2eab-4c7d-9f7a-bd15e2aec833",
   "metadata": {},
   "outputs": [],
   "source": [
    "def readModel():\n",
    "    model_path = os.getcwd() + '/PyTorch_models'\n",
    "    model_list = [files for root, dirs, files in os.walk(model_path)][0] # have two lists, second is empty\n",
    "    model_dict = {}\n",
    "    for model in model_list:\n",
    "        model_dict['model' + '_' + model.split('.')[0].split('_')[-1]] = model\n",
    "    return model_dict"
   ]
  },
  {
   "cell_type": "code",
   "execution_count": 6,
   "id": "2ea2a5b0-3cbd-4f14-9cb1-f3efbd780b9d",
   "metadata": {},
   "outputs": [],
   "source": [
    "model_dict = readModel()"
   ]
  },
  {
   "cell_type": "code",
   "execution_count": 7,
   "id": "62385c90-ca9b-42d7-b9eb-b630acc52588",
   "metadata": {
    "tags": []
   },
   "outputs": [
    {
     "data": {
      "text/plain": [
       "{'model_600': 'best_policy_885_pt_600.model',\n",
       " 'model_25300': 'best_policy_885_pt_25300.model',\n",
       " 'model_14050': 'best_policy_885_pt_14050.model',\n",
       " 'model_23500': 'best_policy_885_pt_23500.model',\n",
       " 'model_10500': 'best_policy_885_pt_10500.model',\n",
       " 'model_19600': 'best_policy_885_pt_19600.model',\n",
       " 'model_11000': 'best_policy_885_pt_11000.model',\n",
       " 'model_19250': 'best_policy_885_pt_19250.model',\n",
       " 'model_18450': 'best_policy_885_pt_18450.model',\n",
       " 'model_50': 'best_policy_885_pt_50.model',\n",
       " 'model_17750': 'best_policy_885_pt_17750.model',\n",
       " 'model_3000': 'best_policy_885_pt_3000.model',\n",
       " 'model_18050': 'best_policy_885_pt_18050.model',\n",
       " 'model_12950': 'best_policy_885_pt_12950.model',\n",
       " 'model_5200': 'best_policy_885_pt_5200.model'}"
      ]
     },
     "execution_count": 7,
     "metadata": {},
     "output_type": "execute_result"
    }
   ],
   "source": [
    "model_dict"
   ]
  },
  {
   "cell_type": "code",
   "execution_count": 8,
   "id": "c0137f31-820f-4202-ac79-461de9c6e6f4",
   "metadata": {},
   "outputs": [],
   "source": [
    "def compete(model_file_1, model_file_2):\n",
    "    \n",
    "    '''compare any two models'''\n",
    "    \n",
    "    # build the board\n",
    "    n = 5\n",
    "    width, height = 8, 8\n",
    "\n",
    "    try:\n",
    "        board = Board(width=width, height=height, n_in_row=n)\n",
    "        game = Game(board)\n",
    "        \n",
    "        # for pyTorch\n",
    "        best_policy_1 = PolicyValueNet(width, height, model_file_1, use_gpu=True)\n",
    "        mcts_player_1 = MCTSPlayer(best_policy_1.policy_value_fn,\n",
    "                                 c_puct=5,\n",
    "                                 n_playout=400)  # set larger n_playout for better performance\n",
    "        \n",
    "        best_policy_2 = PolicyValueNet(width, height, model_file_2, use_gpu=True)\n",
    "        mcts_player_2 = MCTSPlayer(best_policy_2.policy_value_fn,\n",
    "                                 c_puct=5,\n",
    "                                 n_playout=400)  # set larger n_playout for better performance\n",
    "\n",
    "        winner = game.start_play(mcts_player_1, mcts_player_2, start_player=1, is_shown=0)\n",
    "        return winner\n",
    "#         print('winner is {}'.format(winner))\n",
    "            \n",
    "    except KeyboardInterrupt:\n",
    "        print('\\n\\rquit')"
   ]
  },
  {
   "cell_type": "code",
   "execution_count": 9,
   "id": "ac9928fa-a922-478b-9bce-44cef401c1da",
   "metadata": {
    "tags": []
   },
   "outputs": [],
   "source": [
    "# test_models = [[model, Rating()] for model in model_dict.keys()]"
   ]
  },
  {
   "cell_type": "code",
   "execution_count": 10,
   "id": "60ba4e9a-7489-4525-b26a-9692df4d6136",
   "metadata": {},
   "outputs": [],
   "source": [
    "test_models = [[0, random.random(), model_name, Rating()] for model_name in model_dict.keys()]"
   ]
  },
  {
   "cell_type": "code",
   "execution_count": 11,
   "id": "9acca7ed-876d-446c-a52a-32e68da2f621",
   "metadata": {
    "tags": []
   },
   "outputs": [],
   "source": [
    "test_models = sorted(test_models)"
   ]
  },
  {
   "cell_type": "code",
   "execution_count": 12,
   "id": "3ae29070-1d89-4cf3-831b-f240532077eb",
   "metadata": {
    "collapsed": true,
    "jupyter": {
     "outputs_hidden": true
    },
    "tags": []
   },
   "outputs": [
    {
     "data": {
      "text/plain": [
       "[[0,\n",
       "  0.0072591591706265834,\n",
       "  'model_14050',\n",
       "  trueskill.Rating(mu=25.000, sigma=8.333)],\n",
       " [0,\n",
       "  0.0692102197236486,\n",
       "  'model_12950',\n",
       "  trueskill.Rating(mu=25.000, sigma=8.333)],\n",
       " [0,\n",
       "  0.2327762628980069,\n",
       "  'model_17750',\n",
       "  trueskill.Rating(mu=25.000, sigma=8.333)],\n",
       " [0,\n",
       "  0.37283039810491936,\n",
       "  'model_50',\n",
       "  trueskill.Rating(mu=25.000, sigma=8.333)],\n",
       " [0,\n",
       "  0.407879445419541,\n",
       "  'model_25300',\n",
       "  trueskill.Rating(mu=25.000, sigma=8.333)],\n",
       " [0,\n",
       "  0.43574199648558243,\n",
       "  'model_18050',\n",
       "  trueskill.Rating(mu=25.000, sigma=8.333)],\n",
       " [0,\n",
       "  0.4508288586393796,\n",
       "  'model_10500',\n",
       "  trueskill.Rating(mu=25.000, sigma=8.333)],\n",
       " [0,\n",
       "  0.5404522543867997,\n",
       "  'model_600',\n",
       "  trueskill.Rating(mu=25.000, sigma=8.333)],\n",
       " [0,\n",
       "  0.617979257402781,\n",
       "  'model_18450',\n",
       "  trueskill.Rating(mu=25.000, sigma=8.333)],\n",
       " [0,\n",
       "  0.7106370030031306,\n",
       "  'model_11000',\n",
       "  trueskill.Rating(mu=25.000, sigma=8.333)],\n",
       " [0,\n",
       "  0.7429738891444317,\n",
       "  'model_19250',\n",
       "  trueskill.Rating(mu=25.000, sigma=8.333)],\n",
       " [0,\n",
       "  0.7511175086378766,\n",
       "  'model_5200',\n",
       "  trueskill.Rating(mu=25.000, sigma=8.333)],\n",
       " [0,\n",
       "  0.7583519382809932,\n",
       "  'model_3000',\n",
       "  trueskill.Rating(mu=25.000, sigma=8.333)],\n",
       " [0,\n",
       "  0.7844775002418956,\n",
       "  'model_19600',\n",
       "  trueskill.Rating(mu=25.000, sigma=8.333)],\n",
       " [0,\n",
       "  0.8048940026217948,\n",
       "  'model_23500',\n",
       "  trueskill.Rating(mu=25.000, sigma=8.333)]]"
      ]
     },
     "execution_count": 12,
     "metadata": {},
     "output_type": "execute_result"
    }
   ],
   "source": [
    "test_models"
   ]
  },
  {
   "cell_type": "code",
   "execution_count": 14,
   "id": "6ecda085-34c4-4739-a2bc-bbedbfe7755e",
   "metadata": {
    "tags": []
   },
   "outputs": [],
   "source": [
    "# model_1 = random.choice(test_models)"
   ]
  },
  {
   "cell_type": "code",
   "execution_count": 15,
   "id": "b4b33c2d-edb7-400e-ad1f-43ff3ee3f13d",
   "metadata": {},
   "outputs": [],
   "source": [
    "# model_1"
   ]
  },
  {
   "cell_type": "code",
   "execution_count": 16,
   "id": "c4bcec79-2320-494f-aab8-e9ce83d3f7bc",
   "metadata": {},
   "outputs": [],
   "source": [
    "# model_2 = sorted([(quality_1vs1(model_1[1], m[1]), m) for m in test_models if m[0] != model_1[0]])[-1][1]"
   ]
  },
  {
   "cell_type": "code",
   "execution_count": 17,
   "id": "310ea968-2619-4775-a4dd-02319bb9bc30",
   "metadata": {},
   "outputs": [],
   "source": [
    "# model_2"
   ]
  },
  {
   "cell_type": "code",
   "execution_count": 18,
   "id": "d6130f62-c032-4bb2-96c6-1e18d4afdea0",
   "metadata": {},
   "outputs": [],
   "source": [
    "def test():\n",
    "    model_dict = readModel()\n",
    "    test_models = [[0, random.random(), model_name, Rating()] for model_name in model_dict.keys()]\n",
    "    \n",
    "    for i in range(5):\n",
    "        \n",
    "#         random.shuffle(test_models)\n",
    "        test_models = sorted(test_models)\n",
    "        model_1 = test_models[0]\n",
    "        model_2 = test_models[1]\n",
    "#         model_1 = random.choice(test_models)\n",
    "#         model_2 = sorted([(quality_1vs1(model_1[1], m[1]), m) for m in test_models if m[0] != model_1[0]])[-1][1]\n",
    "        \n",
    "        # count the number of games each model has played\n",
    "        model_1[0] += 1\n",
    "        model_2[0] += 1\n",
    "        \n",
    "        # find relevant model files\n",
    "        model_file_1 = os.getcwd() + '/PyTorch_models/' + model_dict[model_1[2]]\n",
    "        model_file_2 = os.getcwd() + '/PyTorch_models/' + model_dict[model_2[2]]\n",
    "        \n",
    "        winner = compete(model_file_1, model_file_2)\n",
    "#         model1_wins = winner == 1\n",
    "#         model2_wins = winner == 2\n",
    "#         tie = winner == -1\n",
    "\n",
    "        if winner == 1:\n",
    "            model_1[-1], model_2[-1] = rate_1vs1(model_1[-1], model_2[-1])\n",
    "        elif winner == 2:\n",
    "            model_2[-1], model_1[-1] = rate_1vs1(model_2[-1], model_1[-1])\n",
    "        elif winner == -1:\n",
    "            model_1[-1], model_2[-1] = rate_1vs1(model_1[-1], model_2[-1], drawn=True)\n",
    "        else:\n",
    "            print(\"unknown winner type \", winner)\n",
    "        \n",
    "        print('game {} completed: {} vs {}, winner is {}'.format(i, model_1[2], model_2[2], winner))\n",
    "    \n",
    "    print(test_models)\n",
    "    return test_models"
   ]
  },
  {
   "cell_type": "code",
   "execution_count": 19,
   "id": "86b73ee1-d3e7-4800-888b-0bc25485bbbd",
   "metadata": {},
   "outputs": [
    {
     "name": "stderr",
     "output_type": "stream",
     "text": [
      "/home/qz99@drexel.edu/AlphaZero_Gomoku/policy_value_net_pytorch.py:51: UserWarning: Implicit dimension choice for log_softmax has been deprecated. Change the call to include dim=X as an argument.\n",
      "  x_act = F.log_softmax(self.act_fc1(x_act))\n",
      "/home/qz99@drexel.edu/.pyenv/versions/3.9.6/lib/python3.9/site-packages/torch/nn/functional.py:1795: UserWarning: nn.functional.tanh is deprecated. Use torch.tanh instead.\n",
      "  warnings.warn(\"nn.functional.tanh is deprecated. Use torch.tanh instead.\")\n"
     ]
    },
    {
     "name": "stdout",
     "output_type": "stream",
     "text": [
      "game 0 completed: model_10500 vs model_3000, winner is 2\n",
      "game 1 completed: model_18450 vs model_12950, winner is 1\n",
      "game 2 completed: model_17750 vs model_23500, winner is 2\n",
      "game 3 completed: model_18050 vs model_19250, winner is -1\n",
      "game 4 completed: model_5200 vs model_50, winner is -1\n",
      "[[1, 0.5204261977481448, 'model_5200', trueskill.Rating(mu=25.000, sigma=6.458)], [1, 0.5615293014988033, 'model_50', trueskill.Rating(mu=25.000, sigma=6.458)], [0, 0.6422192977260516, 'model_19600', trueskill.Rating(mu=25.000, sigma=8.333)], [0, 0.7382583343403695, 'model_14050', trueskill.Rating(mu=25.000, sigma=8.333)], [0, 0.766139795054323, 'model_600', trueskill.Rating(mu=25.000, sigma=8.333)], [0, 0.9314452719639532, 'model_11000', trueskill.Rating(mu=25.000, sigma=8.333)], [0, 0.9346586206471538, 'model_25300', trueskill.Rating(mu=25.000, sigma=8.333)], [1, 0.06216122152776349, 'model_10500', trueskill.Rating(mu=20.604, sigma=7.171)], [1, 0.1061179760372215, 'model_3000', trueskill.Rating(mu=29.396, sigma=7.171)], [1, 0.23768319461551957, 'model_18450', trueskill.Rating(mu=29.396, sigma=7.171)], [1, 0.24657046914822955, 'model_12950', trueskill.Rating(mu=20.604, sigma=7.171)], [1, 0.27213421700941043, 'model_17750', trueskill.Rating(mu=20.604, sigma=7.171)], [1, 0.4215832170278587, 'model_23500', trueskill.Rating(mu=29.396, sigma=7.171)], [1, 0.44826943379755, 'model_18050', trueskill.Rating(mu=25.000, sigma=6.458)], [1, 0.5192109788206095, 'model_19250', trueskill.Rating(mu=25.000, sigma=6.458)]]\n"
     ]
    },
    {
     "data": {
      "text/plain": [
       "[[1,\n",
       "  0.5204261977481448,\n",
       "  'model_5200',\n",
       "  trueskill.Rating(mu=25.000, sigma=6.458)],\n",
       " [1, 0.5615293014988033, 'model_50', trueskill.Rating(mu=25.000, sigma=6.458)],\n",
       " [0,\n",
       "  0.6422192977260516,\n",
       "  'model_19600',\n",
       "  trueskill.Rating(mu=25.000, sigma=8.333)],\n",
       " [0,\n",
       "  0.7382583343403695,\n",
       "  'model_14050',\n",
       "  trueskill.Rating(mu=25.000, sigma=8.333)],\n",
       " [0, 0.766139795054323, 'model_600', trueskill.Rating(mu=25.000, sigma=8.333)],\n",
       " [0,\n",
       "  0.9314452719639532,\n",
       "  'model_11000',\n",
       "  trueskill.Rating(mu=25.000, sigma=8.333)],\n",
       " [0,\n",
       "  0.9346586206471538,\n",
       "  'model_25300',\n",
       "  trueskill.Rating(mu=25.000, sigma=8.333)],\n",
       " [1,\n",
       "  0.06216122152776349,\n",
       "  'model_10500',\n",
       "  trueskill.Rating(mu=20.604, sigma=7.171)],\n",
       " [1,\n",
       "  0.1061179760372215,\n",
       "  'model_3000',\n",
       "  trueskill.Rating(mu=29.396, sigma=7.171)],\n",
       " [1,\n",
       "  0.23768319461551957,\n",
       "  'model_18450',\n",
       "  trueskill.Rating(mu=29.396, sigma=7.171)],\n",
       " [1,\n",
       "  0.24657046914822955,\n",
       "  'model_12950',\n",
       "  trueskill.Rating(mu=20.604, sigma=7.171)],\n",
       " [1,\n",
       "  0.27213421700941043,\n",
       "  'model_17750',\n",
       "  trueskill.Rating(mu=20.604, sigma=7.171)],\n",
       " [1,\n",
       "  0.4215832170278587,\n",
       "  'model_23500',\n",
       "  trueskill.Rating(mu=29.396, sigma=7.171)],\n",
       " [1,\n",
       "  0.44826943379755,\n",
       "  'model_18050',\n",
       "  trueskill.Rating(mu=25.000, sigma=6.458)],\n",
       " [1,\n",
       "  0.5192109788206095,\n",
       "  'model_19250',\n",
       "  trueskill.Rating(mu=25.000, sigma=6.458)]]"
      ]
     },
     "execution_count": 19,
     "metadata": {},
     "output_type": "execute_result"
    }
   ],
   "source": [
    "test()"
   ]
  },
  {
   "cell_type": "markdown",
   "id": "2f42111b-0f68-487a-b00d-f5d54dcbcaf8",
   "metadata": {},
   "source": [
    "### Rsults from terminal"
   ]
  },
  {
   "cell_type": "code",
   "execution_count": 14,
   "id": "dcb57205-5a47-4552-93b1-817b05413ac5",
   "metadata": {},
   "outputs": [],
   "source": [
    "tochee1_result = [['best_policy_885_pt_600.model', trueskill.Rating(mu=27.427, sigma=2.842)], ['best_policy_885_pt_25300.model', trueskill.Rating(mu=15.621, sigma=2.088)], ['best_policy_885_pt_14050.model', trueskill.Rating(mu=26.730, sigma=2.513)], ['best_policy_885_pt_23500.model', trueskill.Rating(mu=27.328, sigma=1.640)], ['best_policy_885_pt_10500.model', trueskill.Rating(mu=26.291, sigma=2.292)], ['best_policy_885_pt_19600.model', trueskill.Rating(mu=26.679, sigma=3.157)], ['best_policy_885_pt_11000.model', trueskill.Rating(mu=15.585, sigma=5.268)], ['best_policy_885_pt_19250.model', trueskill.Rating(mu=18.190, sigma=2.473)], ['best_policy_885_pt_18450.model', trueskill.Rating(mu=27.981, sigma=1.501)], ['best_policy_885_pt_50.model', trueskill.Rating(mu=26.969, sigma=0.936)], ['best_policy_885_pt_17750.model', trueskill.Rating(mu=23.381, sigma=4.099)], ['best_policy_885_pt_3000.model', trueskill.Rating(mu=26.799, sigma=2.373)], ['best_policy_885_pt_18050.model', trueskill.Rating(mu=20.567, sigma=2.358)], ['best_policy_885_pt_12950.model', trueskill.Rating(mu=26.906, sigma=2.613)], ['best_policy_885_pt_5200.model', trueskill.Rating(mu=19.208, sigma=1.484)]]"
   ]
  },
  {
   "cell_type": "code",
   "execution_count": 15,
   "id": "bb165c4d-ed68-40e9-a986-10e9987cc8b3",
   "metadata": {},
   "outputs": [
    {
     "data": {
      "text/plain": [
       "[['best_policy_885_pt_600.model', trueskill.Rating(mu=27.427, sigma=2.842)],\n",
       " ['best_policy_885_pt_25300.model', trueskill.Rating(mu=15.621, sigma=2.088)],\n",
       " ['best_policy_885_pt_14050.model', trueskill.Rating(mu=26.730, sigma=2.513)],\n",
       " ['best_policy_885_pt_23500.model', trueskill.Rating(mu=27.328, sigma=1.640)],\n",
       " ['best_policy_885_pt_10500.model', trueskill.Rating(mu=26.291, sigma=2.292)],\n",
       " ['best_policy_885_pt_19600.model', trueskill.Rating(mu=26.679, sigma=3.157)],\n",
       " ['best_policy_885_pt_11000.model', trueskill.Rating(mu=15.585, sigma=5.268)],\n",
       " ['best_policy_885_pt_19250.model', trueskill.Rating(mu=18.190, sigma=2.473)],\n",
       " ['best_policy_885_pt_18450.model', trueskill.Rating(mu=27.981, sigma=1.501)],\n",
       " ['best_policy_885_pt_50.model', trueskill.Rating(mu=26.969, sigma=0.936)],\n",
       " ['best_policy_885_pt_17750.model', trueskill.Rating(mu=23.381, sigma=4.099)],\n",
       " ['best_policy_885_pt_3000.model', trueskill.Rating(mu=26.799, sigma=2.373)],\n",
       " ['best_policy_885_pt_18050.model', trueskill.Rating(mu=20.567, sigma=2.358)],\n",
       " ['best_policy_885_pt_12950.model', trueskill.Rating(mu=26.906, sigma=2.613)],\n",
       " ['best_policy_885_pt_5200.model', trueskill.Rating(mu=19.208, sigma=1.484)]]"
      ]
     },
     "execution_count": 15,
     "metadata": {},
     "output_type": "execute_result"
    }
   ],
   "source": [
    "tochee1_result"
   ]
  },
  {
   "cell_type": "code",
   "execution_count": 16,
   "id": "7421d58c-85b4-4b69-bc7d-d3aeab58510f",
   "metadata": {},
   "outputs": [],
   "source": [
    "pc_result = [['best_policy_885_pt_10500.model', trueskill.Rating(mu=22.704, sigma=2.076)], ['best_policy_885_pt_11000.model', trueskill.Rating(mu=17.412, sigma=1.650)], ['best_policy_885_pt_12950.model', trueskill.Rating(mu=25.548, sigma=3.220)], ['best_policy_885_pt_14050.model', trueskill.Rating(mu=25.741, sigma=1.002)], ['best_policy_885_pt_17750.model', trueskill.Rating(mu=25.896, sigma=2.279)], ['best_policy_885_pt_18050.model', trueskill.Rating(mu=27.748, sigma=2.179)], ['best_policy_885_pt_18450.model', trueskill.Rating(mu=25.857, sigma=2.249)], ['best_policy_885_pt_19250.model', trueskill.Rating(mu=21.463, sigma=4.564)], ['best_policy_885_pt_19600.model', trueskill.Rating(mu=18.651, sigma=2.223)], ['best_policy_885_pt_23500.model', trueskill.Rating(mu=24.059, sigma=1.620)], ['best_policy_885_pt_25300.model', trueskill.Rating(mu=17.885, sigma=2.409)], ['best_policy_885_pt_3000.model', trueskill.Rating(mu=26.476, sigma=1.695)], ['best_policy_885_pt_50.model', trueskill.Rating(mu=21.351, sigma=3.800)], ['best_policy_885_pt_5200.model', trueskill.Rating(mu=25.924, sigma=1.888)], ['best_policy_885_pt_600.model', trueskill.Rating(mu=35.422, sigma=3.303)]]"
   ]
  },
  {
   "cell_type": "code",
   "execution_count": 17,
   "id": "0245db8a-0ec5-42c8-8355-72b76cf10792",
   "metadata": {},
   "outputs": [
    {
     "data": {
      "text/plain": [
       "[['best_policy_885_pt_10500.model', trueskill.Rating(mu=22.704, sigma=2.076)],\n",
       " ['best_policy_885_pt_11000.model', trueskill.Rating(mu=17.412, sigma=1.650)],\n",
       " ['best_policy_885_pt_12950.model', trueskill.Rating(mu=25.548, sigma=3.220)],\n",
       " ['best_policy_885_pt_14050.model', trueskill.Rating(mu=25.741, sigma=1.002)],\n",
       " ['best_policy_885_pt_17750.model', trueskill.Rating(mu=25.896, sigma=2.279)],\n",
       " ['best_policy_885_pt_18050.model', trueskill.Rating(mu=27.748, sigma=2.179)],\n",
       " ['best_policy_885_pt_18450.model', trueskill.Rating(mu=25.857, sigma=2.249)],\n",
       " ['best_policy_885_pt_19250.model', trueskill.Rating(mu=21.463, sigma=4.564)],\n",
       " ['best_policy_885_pt_19600.model', trueskill.Rating(mu=18.651, sigma=2.223)],\n",
       " ['best_policy_885_pt_23500.model', trueskill.Rating(mu=24.059, sigma=1.620)],\n",
       " ['best_policy_885_pt_25300.model', trueskill.Rating(mu=17.885, sigma=2.409)],\n",
       " ['best_policy_885_pt_3000.model', trueskill.Rating(mu=26.476, sigma=1.695)],\n",
       " ['best_policy_885_pt_50.model', trueskill.Rating(mu=21.351, sigma=3.800)],\n",
       " ['best_policy_885_pt_5200.model', trueskill.Rating(mu=25.924, sigma=1.888)],\n",
       " ['best_policy_885_pt_600.model', trueskill.Rating(mu=35.422, sigma=3.303)]]"
      ]
     },
     "execution_count": 17,
     "metadata": {},
     "output_type": "execute_result"
    }
   ],
   "source": [
    "pc_result"
   ]
  },
  {
   "cell_type": "code",
   "execution_count": 18,
   "id": "4b10b599-e991-4f59-9eac-5e3a9f0b67d1",
   "metadata": {},
   "outputs": [],
   "source": [
    "tochee1_result2 = [['best_policy_885_pt_600.model', trueskill.Rating(mu=25.519, sigma=0.887)], ['best_policy_885_pt_25300.model', trueskill.Rating(mu=25.536, sigma=1.961)], ['best_policy_885_pt_14050.model', trueskill.Rating(mu=25.569, sigma=2.199)], ['best_policy_885_pt_23500.model', trueskill.Rating(mu=25.443, sigma=3.058)], ['best_policy_885_pt_10500.model', trueskill.Rating(mu=25.438, sigma=2.438)], ['best_policy_885_pt_19600.model', trueskill.Rating(mu=30.584, sigma=2.817)], ['best_policy_885_pt_11000.model', trueskill.Rating(mu=9.636, sigma=3.690)], ['best_policy_885_pt_19250.model', trueskill.Rating(mu=25.595, sigma=2.273)], ['best_policy_885_pt_18450.model', trueskill.Rating(mu=25.593, sigma=2.119)], ['best_policy_885_pt_50.model', trueskill.Rating(mu=25.570, sigma=2.844)], ['best_policy_885_pt_17750.model', trueskill.Rating(mu=18.731, sigma=2.595)], ['best_policy_885_pt_3000.model', trueskill.Rating(mu=25.515, sigma=2.388)], ['best_policy_885_pt_18050.model', trueskill.Rating(mu=19.871, sigma=2.591)], ['best_policy_885_pt_12950.model', trueskill.Rating(mu=25.592, sigma=1.398)], ['best_policy_885_pt_5200.model', trueskill.Rating(mu=35.190, sigma=3.007)]]"
   ]
  },
  {
   "cell_type": "code",
   "execution_count": 19,
   "id": "3275128c-9afb-477c-a6d2-37f240672a87",
   "metadata": {},
   "outputs": [
    {
     "data": {
      "text/plain": [
       "[['best_policy_885_pt_600.model', trueskill.Rating(mu=25.519, sigma=0.887)],\n",
       " ['best_policy_885_pt_25300.model', trueskill.Rating(mu=25.536, sigma=1.961)],\n",
       " ['best_policy_885_pt_14050.model', trueskill.Rating(mu=25.569, sigma=2.199)],\n",
       " ['best_policy_885_pt_23500.model', trueskill.Rating(mu=25.443, sigma=3.058)],\n",
       " ['best_policy_885_pt_10500.model', trueskill.Rating(mu=25.438, sigma=2.438)],\n",
       " ['best_policy_885_pt_19600.model', trueskill.Rating(mu=30.584, sigma=2.817)],\n",
       " ['best_policy_885_pt_11000.model', trueskill.Rating(mu=9.636, sigma=3.690)],\n",
       " ['best_policy_885_pt_19250.model', trueskill.Rating(mu=25.595, sigma=2.273)],\n",
       " ['best_policy_885_pt_18450.model', trueskill.Rating(mu=25.593, sigma=2.119)],\n",
       " ['best_policy_885_pt_50.model', trueskill.Rating(mu=25.570, sigma=2.844)],\n",
       " ['best_policy_885_pt_17750.model', trueskill.Rating(mu=18.731, sigma=2.595)],\n",
       " ['best_policy_885_pt_3000.model', trueskill.Rating(mu=25.515, sigma=2.388)],\n",
       " ['best_policy_885_pt_18050.model', trueskill.Rating(mu=19.871, sigma=2.591)],\n",
       " ['best_policy_885_pt_12950.model', trueskill.Rating(mu=25.592, sigma=1.398)],\n",
       " ['best_policy_885_pt_5200.model', trueskill.Rating(mu=35.190, sigma=3.007)]]"
      ]
     },
     "execution_count": 19,
     "metadata": {},
     "output_type": "execute_result"
    }
   ],
   "source": [
    "tochee1_result2"
   ]
  },
  {
   "cell_type": "code",
   "execution_count": 20,
   "id": "72b15d92-15a3-4c52-a11d-6e1602dc031c",
   "metadata": {},
   "outputs": [],
   "source": [
    "pc_result2 = [['best_policy_885_pt_10500.model', trueskill.Rating(mu=25.035, sigma=2.602)], ['best_policy_885_pt_11000.model', trueskill.Rating(mu=10.202, sigma=3.687)], ['best_policy_885_pt_12950.model', trueskill.Rating(mu=25.069, sigma=3.210)], ['best_policy_885_pt_14050.model', trueskill.Rating(mu=25.129, sigma=1.418)], ['best_policy_885_pt_17750.model', trueskill.Rating(mu=18.876, sigma=1.740)], ['best_policy_885_pt_18050.model', trueskill.Rating(mu=20.555, sigma=1.793)], ['best_policy_885_pt_18450.model', trueskill.Rating(mu=25.059, sigma=2.600)], ['best_policy_885_pt_19250.model', trueskill.Rating(mu=25.170, sigma=2.237)], ['best_policy_885_pt_19600.model', trueskill.Rating(mu=30.376, sigma=2.861)], ['best_policy_885_pt_23500.model', trueskill.Rating(mu=25.130, sigma=2.084)], ['best_policy_885_pt_25300.model', trueskill.Rating(mu=25.149, sigma=3.390)], ['best_policy_885_pt_3000.model', trueskill.Rating(mu=25.180, sigma=2.169)], ['best_policy_885_pt_50.model', trueskill.Rating(mu=25.114, sigma=2.154)], ['best_policy_885_pt_5200.model', trueskill.Rating(mu=34.701, sigma=3.126)], ['best_policy_885_pt_600.model', trueskill.Rating(mu=25.101, sigma=0.917)]]"
   ]
  },
  {
   "cell_type": "code",
   "execution_count": 21,
   "id": "09d6505a-17cb-421d-86c3-9ff7ddf6564c",
   "metadata": {},
   "outputs": [
    {
     "data": {
      "text/plain": [
       "[['best_policy_885_pt_10500.model', trueskill.Rating(mu=25.035, sigma=2.602)],\n",
       " ['best_policy_885_pt_11000.model', trueskill.Rating(mu=10.202, sigma=3.687)],\n",
       " ['best_policy_885_pt_12950.model', trueskill.Rating(mu=25.069, sigma=3.210)],\n",
       " ['best_policy_885_pt_14050.model', trueskill.Rating(mu=25.129, sigma=1.418)],\n",
       " ['best_policy_885_pt_17750.model', trueskill.Rating(mu=18.876, sigma=1.740)],\n",
       " ['best_policy_885_pt_18050.model', trueskill.Rating(mu=20.555, sigma=1.793)],\n",
       " ['best_policy_885_pt_18450.model', trueskill.Rating(mu=25.059, sigma=2.600)],\n",
       " ['best_policy_885_pt_19250.model', trueskill.Rating(mu=25.170, sigma=2.237)],\n",
       " ['best_policy_885_pt_19600.model', trueskill.Rating(mu=30.376, sigma=2.861)],\n",
       " ['best_policy_885_pt_23500.model', trueskill.Rating(mu=25.130, sigma=2.084)],\n",
       " ['best_policy_885_pt_25300.model', trueskill.Rating(mu=25.149, sigma=3.390)],\n",
       " ['best_policy_885_pt_3000.model', trueskill.Rating(mu=25.180, sigma=2.169)],\n",
       " ['best_policy_885_pt_50.model', trueskill.Rating(mu=25.114, sigma=2.154)],\n",
       " ['best_policy_885_pt_5200.model', trueskill.Rating(mu=34.701, sigma=3.126)],\n",
       " ['best_policy_885_pt_600.model', trueskill.Rating(mu=25.101, sigma=0.917)]]"
      ]
     },
     "execution_count": 21,
     "metadata": {},
     "output_type": "execute_result"
    }
   ],
   "source": [
    "pc_result2"
   ]
  },
  {
   "cell_type": "code",
   "execution_count": 23,
   "id": "4d72b2b6-8c67-4e74-a6ef-a62cc0a4b243",
   "metadata": {},
   "outputs": [],
   "source": [
    "tochee1_result3 = [['best_policy_885_pt_600.model', trueskill.Rating(mu=28.700, sigma=3.779)], ['best_policy_885_pt_25300.model', trueskill.Rating(mu=25.878, sigma=1.654)], ['best_policy_885_pt_14050.model', trueskill.Rating(mu=25.456, sigma=3.410)], ['best_policy_885_pt_23500.model', trueskill.Rating(mu=21.285, sigma=1.414)], ['best_policy_885_pt_10500.model', trueskill.Rating(mu=18.545, sigma=3.992)], ['best_policy_885_pt_19600.model', trueskill.Rating(mu=25.948, sigma=2.315)], ['best_policy_885_pt_11000.model', trueskill.Rating(mu=29.108, sigma=1.982)], ['best_policy_885_pt_19250.model', trueskill.Rating(mu=25.863, sigma=1.340)], ['best_policy_885_pt_18450.model', trueskill.Rating(mu=17.783, sigma=3.234)], ['best_policy_885_pt_50.model', trueskill.Rating(mu=18.001, sigma=3.614)], ['best_policy_885_pt_17750.model', trueskill.Rating(mu=17.162, sigma=2.249)], ['best_policy_885_pt_3000.model', trueskill.Rating(mu=20.095, sigma=1.618)], ['best_policy_885_pt_18050.model', trueskill.Rating(mu=17.366, sigma=2.946)], ['best_policy_885_pt_12950.model', trueskill.Rating(mu=17.201, sigma=1.279)], ['best_policy_885_pt_5200.model', trueskill.Rating(mu=28.795, sigma=2.718)]]"
   ]
  },
  {
   "cell_type": "code",
   "execution_count": 24,
   "id": "92df0449-3c8c-4268-aaa5-4ed3d4a78cbb",
   "metadata": {},
   "outputs": [
    {
     "data": {
      "text/plain": [
       "[['best_policy_885_pt_600.model', trueskill.Rating(mu=28.700, sigma=3.779)],\n",
       " ['best_policy_885_pt_25300.model', trueskill.Rating(mu=25.878, sigma=1.654)],\n",
       " ['best_policy_885_pt_14050.model', trueskill.Rating(mu=25.456, sigma=3.410)],\n",
       " ['best_policy_885_pt_23500.model', trueskill.Rating(mu=21.285, sigma=1.414)],\n",
       " ['best_policy_885_pt_10500.model', trueskill.Rating(mu=18.545, sigma=3.992)],\n",
       " ['best_policy_885_pt_19600.model', trueskill.Rating(mu=25.948, sigma=2.315)],\n",
       " ['best_policy_885_pt_11000.model', trueskill.Rating(mu=29.108, sigma=1.982)],\n",
       " ['best_policy_885_pt_19250.model', trueskill.Rating(mu=25.863, sigma=1.340)],\n",
       " ['best_policy_885_pt_18450.model', trueskill.Rating(mu=17.783, sigma=3.234)],\n",
       " ['best_policy_885_pt_50.model', trueskill.Rating(mu=18.001, sigma=3.614)],\n",
       " ['best_policy_885_pt_17750.model', trueskill.Rating(mu=17.162, sigma=2.249)],\n",
       " ['best_policy_885_pt_3000.model', trueskill.Rating(mu=20.095, sigma=1.618)],\n",
       " ['best_policy_885_pt_18050.model', trueskill.Rating(mu=17.366, sigma=2.946)],\n",
       " ['best_policy_885_pt_12950.model', trueskill.Rating(mu=17.201, sigma=1.279)],\n",
       " ['best_policy_885_pt_5200.model', trueskill.Rating(mu=28.795, sigma=2.718)]]"
      ]
     },
     "execution_count": 24,
     "metadata": {},
     "output_type": "execute_result"
    }
   ],
   "source": [
    "tochee1_result3"
   ]
  },
  {
   "cell_type": "code",
   "execution_count": 26,
   "id": "7322c86b-5638-4302-b77c-655f7cd798e5",
   "metadata": {},
   "outputs": [],
   "source": [
    "tochee1_result4 = [['best_policy_885_pt_600.model', trueskill.Rating(mu=30.239, sigma=1.691)], ['best_policy_885_pt_25300.model', trueskill.Rating(mu=26.272, sigma=1.323)], ['best_policy_885_pt_14050.model', trueskill.Rating(mu=16.370, sigma=2.467)], ['best_policy_885_pt_23500.model', trueskill.Rating(mu=25.669, sigma=2.297)], ['best_policy_885_pt_10500.model', trueskill.Rating(mu=23.250, sigma=1.833)], ['best_policy_885_pt_19600.model', trueskill.Rating(mu=21.303, sigma=2.508)], ['best_policy_885_pt_11000.model', trueskill.Rating(mu=17.358, sigma=2.388)], ['best_policy_885_pt_19250.model', trueskill.Rating(mu=26.334, sigma=1.526)], ['best_policy_885_pt_18450.model', trueskill.Rating(mu=12.902, sigma=2.813)], ['best_policy_885_pt_50.model', trueskill.Rating(mu=21.223, sigma=1.666)], ['best_policy_885_pt_17750.model', trueskill.Rating(mu=15.859, sigma=3.032)], ['best_policy_885_pt_3000.model', trueskill.Rating(mu=30.217, sigma=1.405)], ['best_policy_885_pt_18050.model', trueskill.Rating(mu=13.071, sigma=3.014)], ['best_policy_885_pt_12950.model', trueskill.Rating(mu=21.187, sigma=3.217)], ['best_policy_885_pt_5200.model', trueskill.Rating(mu=30.181, sigma=2.136)]]"
   ]
  },
  {
   "cell_type": "code",
   "execution_count": 27,
   "id": "b08a5b17-cf19-419b-849f-e43bbe889797",
   "metadata": {},
   "outputs": [
    {
     "data": {
      "text/plain": [
       "[['best_policy_885_pt_600.model', trueskill.Rating(mu=30.239, sigma=1.691)],\n",
       " ['best_policy_885_pt_25300.model', trueskill.Rating(mu=26.272, sigma=1.323)],\n",
       " ['best_policy_885_pt_14050.model', trueskill.Rating(mu=16.370, sigma=2.467)],\n",
       " ['best_policy_885_pt_23500.model', trueskill.Rating(mu=25.669, sigma=2.297)],\n",
       " ['best_policy_885_pt_10500.model', trueskill.Rating(mu=23.250, sigma=1.833)],\n",
       " ['best_policy_885_pt_19600.model', trueskill.Rating(mu=21.303, sigma=2.508)],\n",
       " ['best_policy_885_pt_11000.model', trueskill.Rating(mu=17.358, sigma=2.388)],\n",
       " ['best_policy_885_pt_19250.model', trueskill.Rating(mu=26.334, sigma=1.526)],\n",
       " ['best_policy_885_pt_18450.model', trueskill.Rating(mu=12.902, sigma=2.813)],\n",
       " ['best_policy_885_pt_50.model', trueskill.Rating(mu=21.223, sigma=1.666)],\n",
       " ['best_policy_885_pt_17750.model', trueskill.Rating(mu=15.859, sigma=3.032)],\n",
       " ['best_policy_885_pt_3000.model', trueskill.Rating(mu=30.217, sigma=1.405)],\n",
       " ['best_policy_885_pt_18050.model', trueskill.Rating(mu=13.071, sigma=3.014)],\n",
       " ['best_policy_885_pt_12950.model', trueskill.Rating(mu=21.187, sigma=3.217)],\n",
       " ['best_policy_885_pt_5200.model', trueskill.Rating(mu=30.181, sigma=2.136)]]"
      ]
     },
     "execution_count": 27,
     "metadata": {},
     "output_type": "execute_result"
    }
   ],
   "source": [
    "tochee1_result4"
   ]
  },
  {
   "cell_type": "code",
   "execution_count": 28,
   "id": "2b6b132c-4547-4a15-b0fc-c94ae437ed72",
   "metadata": {},
   "outputs": [],
   "source": [
    "tochee1_result5 = [['best_policy_885_pt_600.model', trueskill.Rating(mu=25.154, sigma=0.928)], ['best_policy_885_pt_25300.model', trueskill.Rating(mu=25.180, sigma=2.696)], ['best_policy_885_pt_14050.model', trueskill.Rating(mu=25.137, sigma=1.914)], ['best_policy_885_pt_23500.model', trueskill.Rating(mu=25.135, sigma=2.824)], ['best_policy_885_pt_10500.model', trueskill.Rating(mu=25.158, sigma=2.242)], ['best_policy_885_pt_19600.model', trueskill.Rating(mu=30.930, sigma=1.979)], ['best_policy_885_pt_11000.model', trueskill.Rating(mu=16.874, sigma=2.349)], ['best_policy_885_pt_19250.model', trueskill.Rating(mu=25.171, sigma=2.398)], ['best_policy_885_pt_18450.model', trueskill.Rating(mu=25.190, sigma=2.136)], ['best_policy_885_pt_50.model', trueskill.Rating(mu=25.152, sigma=2.208)], ['best_policy_885_pt_17750.model', trueskill.Rating(mu=25.000, sigma=8.333)], ['best_policy_885_pt_3000.model', trueskill.Rating(mu=25.171, sigma=2.263)], ['best_policy_885_pt_18050.model', trueskill.Rating(mu=18.070, sigma=2.554)], ['best_policy_885_pt_12950.model', trueskill.Rating(mu=25.178, sigma=1.925)], ['best_policy_885_pt_5200.model', trueskill.Rating(mu=32.229, sigma=1.974)]]"
   ]
  },
  {
   "cell_type": "code",
   "execution_count": 29,
   "id": "40700ddb-e111-4f82-9a6a-5d6040434b30",
   "metadata": {},
   "outputs": [
    {
     "data": {
      "text/plain": [
       "[['best_policy_885_pt_600.model', trueskill.Rating(mu=25.154, sigma=0.928)],\n",
       " ['best_policy_885_pt_25300.model', trueskill.Rating(mu=25.180, sigma=2.696)],\n",
       " ['best_policy_885_pt_14050.model', trueskill.Rating(mu=25.137, sigma=1.914)],\n",
       " ['best_policy_885_pt_23500.model', trueskill.Rating(mu=25.135, sigma=2.824)],\n",
       " ['best_policy_885_pt_10500.model', trueskill.Rating(mu=25.158, sigma=2.242)],\n",
       " ['best_policy_885_pt_19600.model', trueskill.Rating(mu=30.930, sigma=1.979)],\n",
       " ['best_policy_885_pt_11000.model', trueskill.Rating(mu=16.874, sigma=2.349)],\n",
       " ['best_policy_885_pt_19250.model', trueskill.Rating(mu=25.171, sigma=2.398)],\n",
       " ['best_policy_885_pt_18450.model', trueskill.Rating(mu=25.190, sigma=2.136)],\n",
       " ['best_policy_885_pt_50.model', trueskill.Rating(mu=25.152, sigma=2.208)],\n",
       " ['best_policy_885_pt_17750.model', trueskill.Rating(mu=25.000, sigma=8.333)],\n",
       " ['best_policy_885_pt_3000.model', trueskill.Rating(mu=25.171, sigma=2.263)],\n",
       " ['best_policy_885_pt_18050.model', trueskill.Rating(mu=18.070, sigma=2.554)],\n",
       " ['best_policy_885_pt_12950.model', trueskill.Rating(mu=25.178, sigma=1.925)],\n",
       " ['best_policy_885_pt_5200.model', trueskill.Rating(mu=32.229, sigma=1.974)]]"
      ]
     },
     "execution_count": 29,
     "metadata": {},
     "output_type": "execute_result"
    }
   ],
   "source": [
    "tochee1_result5"
   ]
  },
  {
   "cell_type": "markdown",
   "id": "cf185b97-65cd-49f5-85c6-bd36cfbeb68e",
   "metadata": {},
   "source": [
    "### Testing algo"
   ]
  },
  {
   "cell_type": "code",
   "execution_count": 15,
   "id": "40746d4a-0cd6-455b-82fa-053d71702eb0",
   "metadata": {},
   "outputs": [],
   "source": [
    "def winProb(model_file_1, model_file_2):\n",
    "    delta_mu = sum(r.mu for r in model_file_1) - sum(r.mu for r in model_file_2)\n",
    "    sum_sigma = sum(r.sigma ** 2 for r in itertools.chain(model_file_1, model_file_2))\n",
    "    size = len(model_file_1) + len(model_file_2)\n",
    "    denom = math.sqrt(size * (1 * 1) + sum_sigma)\n",
    "    ts = trueskill.global_env()\n",
    "    return ts.cdf(delta_mu / denom)"
   ]
  },
  {
   "cell_type": "code",
   "execution_count": 16,
   "id": "b466e4c1-4a3e-429c-93d9-a342032912ee",
   "metadata": {},
   "outputs": [],
   "source": [
    "for _ in range(100):\n",
    "    model_file_1 = random.choice(test_models)\n",
    "    model_file_2 = sorted([(quality_1vs1(model_file_1[1], m[1]), m) for m in test_models if m[0] != model_file_1[0]])[-1][1]\n",
    "#     print(model_file_1[0], model_file_2[0])\n",
    "    model1_wins = random.random() < winProb([model_file_1[1]], [model_file_2[1]])\n",
    "#     print(model1_wins)\n",
    "    if model1_wins:\n",
    "        model_file_1[1], model_file_2[1] = rate_1vs1(model_file_1[1], model_file_2[1])\n",
    "    else:\n",
    "        model_file_2[1], model_file_1[1] = rate_1vs1(model_file_2[1], model_file_1[1])"
   ]
  },
  {
   "cell_type": "code",
   "execution_count": 19,
   "id": "6ab34765-6cd5-4018-8a5d-16e12c0bb77e",
   "metadata": {},
   "outputs": [],
   "source": [
    "def run():\n",
    "    n = 5\n",
    "    width, height = 8, 8\n",
    "    model_file_1 = os.getcwd() + '/PyTorch_models/best_policy_885_pt_50.model'\n",
    "    model_file_2 = os.getcwd() + '/PyTorch_models/best_policy_885_pt_10500.model'\n",
    "    try:\n",
    "        board = Board(width=width, height=height, n_in_row=n)\n",
    "        game = Game(board)\n",
    "        \n",
    "        # for pyTorch\n",
    "        best_policy_1 = PolicyValueNet(width, height, model_file_1, use_gpu=True)\n",
    "        mcts_player_1 = MCTSPlayer(best_policy_1.policy_value_fn,\n",
    "                                 c_puct=5,\n",
    "                                 n_playout=400)  # set larger n_playout for better performance\n",
    "        \n",
    "        best_policy_2 = PolicyValueNet(width, height, model_file_2, use_gpu=True)\n",
    "        mcts_player_2 = MCTSPlayer(best_policy_2.policy_value_fn,\n",
    "                                 c_puct=5,\n",
    "                                 n_playout=400)  # set larger n_playout for better performance\n",
    "\n",
    "        # set start_player=0 for human first  \n",
    "        winner = game.start_play(mcts_player_1, mcts_player_2, start_player=1, is_shown=0)\n",
    "#             print('winner is {}'.format(winner))\n",
    "        return winner\n",
    "    except KeyboardInterrupt:\n",
    "        print('\\n\\rquit')"
   ]
  },
  {
   "cell_type": "code",
   "execution_count": 20,
   "id": "fc7f5766-31db-48c1-a200-a01a8a2f61f2",
   "metadata": {},
   "outputs": [
    {
     "data": {
      "text/plain": [
       "2"
      ]
     },
     "execution_count": 20,
     "metadata": {},
     "output_type": "execute_result"
    }
   ],
   "source": [
    "run()"
   ]
  }
 ],
 "metadata": {
  "kernelspec": {
   "display_name": "qz3.9.6",
   "language": "python",
   "name": "qz3.9.6"
  },
  "language_info": {
   "codemirror_mode": {
    "name": "ipython",
    "version": 3
   },
   "file_extension": ".py",
   "mimetype": "text/x-python",
   "name": "python",
   "nbconvert_exporter": "python",
   "pygments_lexer": "ipython3",
   "version": "3.9.6"
  }
 },
 "nbformat": 4,
 "nbformat_minor": 5
}
